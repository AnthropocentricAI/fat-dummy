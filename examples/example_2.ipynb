{
 "cells": [
  {
   "cell_type": "code",
   "execution_count": 1,
   "metadata": {},
   "outputs": [],
   "source": [
    "%load_ext autoreload\n",
    "%autoreload 2"
   ]
  },
  {
   "cell_type": "code",
   "execution_count": 2,
   "metadata": {},
   "outputs": [],
   "source": [
    "import matplotlib.pyplot as plt"
   ]
  },
  {
   "cell_type": "code",
   "execution_count": 3,
   "metadata": {},
   "outputs": [],
   "source": [
    "%matplotlib inline"
   ]
  },
  {
   "cell_type": "code",
   "execution_count": 4,
   "metadata": {},
   "outputs": [],
   "source": [
    "import numpy as np"
   ]
  },
  {
   "cell_type": "code",
   "execution_count": 5,
   "metadata": {},
   "outputs": [],
   "source": [
    "import fatd.holders\n",
    "import fatd.transform.data\n",
    "import fatd.measure.accountability.data\n",
    "import fatd.measure.fairness.data\n",
    "import fatd.measure.accountability.models\n",
    "import fatd.measure.fairness.models\n",
    "import fatd.measure.fairness.predictions\n",
    "import fatd.measure.accountability.predictions"
   ]
  },
  {
   "cell_type": "markdown",
   "metadata": {},
   "source": [
    "# Get data"
   ]
  },
  {
   "cell_type": "code",
   "execution_count": 6,
   "metadata": {},
   "outputs": [],
   "source": [
    "raw_data_path = 'data/iris.csv'\n",
    "data = fatd.holders.csv_loader(raw_data_path)"
   ]
  },
  {
   "cell_type": "code",
   "execution_count": 7,
   "metadata": {},
   "outputs": [
    {
     "data": {
      "text/plain": [
       "array([[5.1, 3.5, 1.4, 0.2],\n",
       "       [4.9, 3. , 1.4, 0.2],\n",
       "       [4.7, 3.2, 1.3, 0.2],\n",
       "       [4.6, 3.1, 1.5, 0.2],\n",
       "       [5. , 3.6, 1.4, 0.2],\n",
       "       [5.4, 3.9, 1.7, 0.4],\n",
       "       [4.6, 3.4, 1.4, 0.3],\n",
       "       [5. , 3.4, 1.5, 0.2],\n",
       "       [4.4, 2.9, 1.4, 0.2],\n",
       "       [4.9, 3.1, 1.5, 0.1]])"
      ]
     },
     "execution_count": 7,
     "metadata": {},
     "output_type": "execute_result"
    }
   ],
   "source": [
    "data.data[:10]"
   ]
  },
  {
   "cell_type": "markdown",
   "metadata": {},
   "source": [
    "# Transform"
   ]
  },
  {
   "cell_type": "markdown",
   "metadata": {},
   "source": [
    "## Data"
   ]
  },
  {
   "cell_type": "code",
   "execution_count": 8,
   "metadata": {},
   "outputs": [
    {
     "data": {
      "text/plain": [
       "array([[5.1  , 3.5  , 1.4  , 0.2  , 2.55 ],\n",
       "       [4.9  , 3.   , 1.4  , 0.2  , 2.375],\n",
       "       [4.7  , 3.2  , 1.3  , 0.2  , 2.35 ],\n",
       "       [4.6  , 3.1  , 1.5  , 0.2  , 2.35 ],\n",
       "       [5.   , 3.6  , 1.4  , 0.2  , 2.55 ],\n",
       "       [5.4  , 3.9  , 1.7  , 0.4  , 2.85 ],\n",
       "       [4.6  , 3.4  , 1.4  , 0.3  , 2.425],\n",
       "       [5.   , 3.4  , 1.5  , 0.2  , 2.525],\n",
       "       [4.4  , 2.9  , 1.4  , 0.2  , 2.225],\n",
       "       [4.9  , 3.1  , 1.5  , 0.1  , 2.4  ]])"
      ]
     },
     "execution_count": 8,
     "metadata": {},
     "output_type": "execute_result"
    }
   ],
   "source": [
    "data_1 = data.apply(fatd.transform.data.mean, axis=1)\n",
    "data_1.data[:10]"
   ]
  },
  {
   "cell_type": "code",
   "execution_count": 9,
   "metadata": {},
   "outputs": [
    {
     "name": "stdout",
     "output_type": "stream",
     "text": [
      "[[1.]\n",
      " [1.]\n",
      " [1.]\n",
      " [1.]\n",
      " [1.]\n",
      " [1.]\n",
      " [1.]\n",
      " [1.]\n",
      " [1.]\n",
      " [1.]]\n"
     ]
    },
    {
     "data": {
      "text/plain": [
       "array([[6.7, 3.1, 5.6, 2.4, 1. ],\n",
       "       [6.9, 3.1, 5.1, 2.3, 1. ],\n",
       "       [5.8, 2.7, 5.1, 1.9, 1. ],\n",
       "       [6.8, 3.2, 5.9, 2.3, 1. ],\n",
       "       [6.7, 3.3, 5.7, 2.5, 1. ],\n",
       "       [6.7, 3. , 5.2, 2.3, 1. ],\n",
       "       [6.3, 2.5, 5. , 1.9, 1. ],\n",
       "       [6.5, 3. , 5.2, 2. , 1. ],\n",
       "       [6.2, 3.4, 5.4, 2.3, 1. ],\n",
       "       [5.9, 3. , 5.1, 1.8, 1. ]])"
      ]
     },
     "execution_count": 9,
     "metadata": {},
     "output_type": "execute_result"
    }
   ],
   "source": [
    "new_data_2 = np.ones((data.n_rows,1))\n",
    "print(new_data_2[0:10])\n",
    "\n",
    "data_2 = data.append(new_data_2, axis=1)\n",
    "data_2.data[-10:]"
   ]
  },
  {
   "cell_type": "code",
   "execution_count": 10,
   "metadata": {},
   "outputs": [
    {
     "name": "stdout",
     "output_type": "stream",
     "text": [
      "[[1. 1. 1. 1.]\n",
      " [1. 1. 1. 1.]\n",
      " [1. 1. 1. 1.]\n",
      " [1. 1. 1. 1.]\n",
      " [1. 1. 1. 1.]\n",
      " [1. 1. 1. 1.]\n",
      " [1. 1. 1. 1.]]\n",
      "[[0.]\n",
      " [0.]\n",
      " [0.]\n",
      " [0.]\n",
      " [0.]\n",
      " [0.]\n",
      " [0.]]\n"
     ]
    },
    {
     "data": {
      "text/plain": [
       "array([[6.5, 3. , 5.2, 2. ],\n",
       "       [6.2, 3.4, 5.4, 2.3],\n",
       "       [5.9, 3. , 5.1, 1.8],\n",
       "       [1. , 1. , 1. , 1. ],\n",
       "       [1. , 1. , 1. , 1. ],\n",
       "       [1. , 1. , 1. , 1. ],\n",
       "       [1. , 1. , 1. , 1. ],\n",
       "       [1. , 1. , 1. , 1. ],\n",
       "       [1. , 1. , 1. , 1. ],\n",
       "       [1. , 1. , 1. , 1. ]])"
      ]
     },
     "execution_count": 10,
     "metadata": {},
     "output_type": "execute_result"
    }
   ],
   "source": [
    "new_data_3 = np.ones((7,4))\n",
    "new_target_3 = np.zeros((7,1))\n",
    "print(new_data_3[0:10])\n",
    "print(new_target_3[0:10])\n",
    "\n",
    "data_3 = data.append(new_data_3, target_array=new_target_3, axis=0)\n",
    "data_3.data[-10:]"
   ]
  },
  {
   "cell_type": "code",
   "execution_count": 11,
   "metadata": {},
   "outputs": [
    {
     "data": {
      "text/plain": [
       "array([[3.5  , 1.4  , 2.55 ],\n",
       "       [3.   , 1.4  , 2.375],\n",
       "       [3.2  , 1.3  , 2.35 ],\n",
       "       [3.1  , 1.5  , 2.35 ],\n",
       "       [3.6  , 1.4  , 2.55 ],\n",
       "       [3.9  , 1.7  , 2.85 ],\n",
       "       [3.4  , 1.4  , 2.425],\n",
       "       [3.4  , 1.5  , 2.525],\n",
       "       [2.9  , 1.4  , 2.225],\n",
       "       [3.1  , 1.5  , 2.4  ]])"
      ]
     },
     "execution_count": 11,
     "metadata": {},
     "output_type": "execute_result"
    }
   ],
   "source": [
    "data_1_1 = data_1.delete([0,3], axis=1)\n",
    "data_1_1.data[:10]"
   ]
  },
  {
   "cell_type": "code",
   "execution_count": 12,
   "metadata": {},
   "outputs": [
    {
     "data": {
      "text/plain": [
       "array([[5.1  , 3.5  , 1.4  , 0.2  , 2.55 , 1.4  ],\n",
       "       [4.9  , 3.   , 1.4  , 0.2  , 2.375, 1.4  ],\n",
       "       [4.7  , 3.2  , 1.3  , 0.2  , 2.35 , 1.3  ],\n",
       "       [4.6  , 3.1  , 1.5  , 0.2  , 2.35 , 1.5  ],\n",
       "       [5.   , 3.6  , 1.4  , 0.2  , 2.55 , 1.4  ],\n",
       "       [5.4  , 3.9  , 1.7  , 0.4  , 2.85 , 1.5  ],\n",
       "       [4.6  , 3.4  , 1.4  , 0.3  , 2.425, 1.4  ],\n",
       "       [5.   , 3.4  , 1.5  , 0.2  , 2.525, 1.5  ],\n",
       "       [4.4  , 2.9  , 1.4  , 0.2  , 2.225, 1.4  ],\n",
       "       [4.9  , 3.1  , 1.5  , 0.1  , 2.4  , 1.5  ]])"
      ]
     },
     "execution_count": 12,
     "metadata": {},
     "output_type": "execute_result"
    }
   ],
   "source": [
    "# threshold -- apply a function with extra arguments\n",
    "threshold = lambda x: fatd.transform.data.threshold(value=x, lower=0.5, upper=1.5)\n",
    "\n",
    "data_1_2 = data_1.apply(threshold, indices=[2], axis=1)\n",
    "data_1_2.data[:10]"
   ]
  },
  {
   "cell_type": "markdown",
   "metadata": {},
   "source": [
    "## Model and Predictions\n",
    "\n",
    "Should not be transformed at the moment."
   ]
  },
  {
   "cell_type": "markdown",
   "metadata": {},
   "source": [
    "## Straightforward computation on `data_1_2` ##\n",
    "\n",
    "### Data to Model ###"
   ]
  },
  {
   "cell_type": "code",
   "execution_count": 13,
   "metadata": {},
   "outputs": [],
   "source": [
    "data_1_2_to_model = fatd.holders.Data2Model()\n",
    "untrained_model_1_2 = fatd.holders.models.KNN()\n",
    "model_1_2 = data_1_2_to_model.transform(data_1_2, untrained_model_1_2)"
   ]
  },
  {
   "cell_type": "markdown",
   "metadata": {},
   "source": [
    "### Model to Predictions ###"
   ]
  },
  {
   "cell_type": "code",
   "execution_count": 14,
   "metadata": {},
   "outputs": [
    {
     "name": "stdout",
     "output_type": "stream",
     "text": [
      "Using test partition of the data based on the data_to_model object.\n"
     ]
    }
   ],
   "source": [
    "model_1_2_to_predictions = fatd.holders.Model2Predictions()\n",
    "predictions_1_2 = model_1_2_to_predictions.transform(model_1_2, data_1_2, data_1_2_to_model)"
   ]
  },
  {
   "cell_type": "markdown",
   "metadata": {},
   "source": [
    "## More complicated computation on `data_2` ##\n",
    "\n",
    "### Data to Model ##"
   ]
  },
  {
   "cell_type": "code",
   "execution_count": 15,
   "metadata": {},
   "outputs": [],
   "source": [
    "data_2_to_model = fatd.holders.Data2Model()\n",
    "untrained_model_2 = fatd.holders.models.KNN()\n",
    "model_2 = data_2_to_model.transform(data_2, untrained_model_2)"
   ]
  },
  {
   "cell_type": "markdown",
   "metadata": {},
   "source": [
    "### Model to Predictions... ###"
   ]
  },
  {
   "cell_type": "code",
   "execution_count": 16,
   "metadata": {},
   "outputs": [],
   "source": [
    "model_2_to_predictions = fatd.holders.Model2Predictions()"
   ]
  },
  {
   "cell_type": "markdown",
   "metadata": {},
   "source": [
    "#### ...based on splitter (`data_to_model`) partition ####"
   ]
  },
  {
   "cell_type": "code",
   "execution_count": 17,
   "metadata": {},
   "outputs": [
    {
     "name": "stdout",
     "output_type": "stream",
     "text": [
      "Using test partition of the data based on the data_to_model object.\n"
     ]
    }
   ],
   "source": [
    "predictions_2_from_data_2 = model_2_to_predictions.transform(model_2, data_2, data_2_to_model)"
   ]
  },
  {
   "cell_type": "markdown",
   "metadata": {},
   "source": [
    "#### ...based on a new data set ####"
   ]
  },
  {
   "cell_type": "code",
   "execution_count": 18,
   "metadata": {},
   "outputs": [
    {
     "name": "stdout",
     "output_type": "stream",
     "text": [
      "Missing data_to_model object. Using the whole data set.\n"
     ]
    }
   ],
   "source": [
    "# Define new data\n",
    "external_raw_data = np.zeros((6,5))\n",
    "external_target = np.ones((6,))\n",
    "external_data = fatd.holders.Data(external_raw_data, external_target)\n",
    "\n",
    "# Predict on an extra set of data\n",
    "predictions_2_from_external_data = model_2_to_predictions.transform(model_2, external_data)"
   ]
  },
  {
   "cell_type": "markdown",
   "metadata": {},
   "source": [
    "# Measure"
   ]
  },
  {
   "cell_type": "markdown",
   "metadata": {},
   "source": [
    "## Data ##"
   ]
  },
  {
   "cell_type": "code",
   "execution_count": 19,
   "metadata": {},
   "outputs": [],
   "source": [
    "names, values = fatd.measure.accountability.data.class_count(data_1_2)"
   ]
  },
  {
   "cell_type": "code",
   "execution_count": 20,
   "metadata": {},
   "outputs": [
    {
     "data": {
      "image/png": "[encoded data removed]",
      "text/plain": [
       "<Figure size 432x288 with 1 Axes>"
      ]
     },
     "metadata": {},
     "output_type": "display_data"
    }
   ],
   "source": [
    "plt.pie(values, labels=names)\n",
    "plt.show()"
   ]
  },
  {
   "cell_type": "code",
   "execution_count": 21,
   "metadata": {},
   "outputs": [],
   "source": [
    "# Get a histogram of column index 3 of the data\n",
    "bins, counts = fatd.measure.fairness.data.feature_histogram(data_1_2, 3)"
   ]
  },
  {
   "cell_type": "code",
   "execution_count": 22,
   "metadata": {},
   "outputs": [
    {
     "data": {
      "image/png": "[encoded data removed]",
      "text/plain": [
       "<Figure size 432x288 with 1 Axes>"
      ]
     },
     "metadata": {
      "needs_background": "light"
     },
     "output_type": "display_data"
    }
   ],
   "source": [
    "bin_width = bins[1]-bins[0]\n",
    "bins_centres = [bins[i]+(bins[i+1]-bins[i]/2) for i in range(len(bins)-1)]\n",
    "plt.bar(bins_centres, counts, bin_width)\n",
    "plt.show()"
   ]
  },
  {
   "cell_type": "markdown",
   "metadata": {},
   "source": [
    "## Model ##"
   ]
  },
  {
   "cell_type": "code",
   "execution_count": 23,
   "metadata": {},
   "outputs": [],
   "source": [
    "model_1_2_training_accuracy = fatd.measure.fairness.models.training_accuracy(model_1_2, data_1_2_to_model, data_1_2)"
   ]
  },
  {
   "cell_type": "code",
   "execution_count": 24,
   "metadata": {},
   "outputs": [
    {
     "name": "stdout",
     "output_type": "stream",
     "text": [
      "0.97\n"
     ]
    }
   ],
   "source": [
    "print('{:2.2f}'.format(model_1_2_training_accuracy))"
   ]
  },
  {
   "cell_type": "code",
   "execution_count": 25,
   "metadata": {},
   "outputs": [],
   "source": [
    "model_1_2_data_accuracy = fatd.measure.fairness.models.data_accuracy(model_1_2, data_1_2)"
   ]
  },
  {
   "cell_type": "code",
   "execution_count": 26,
   "metadata": {},
   "outputs": [
    {
     "name": "stdout",
     "output_type": "stream",
     "text": [
      "0.97\n"
     ]
    }
   ],
   "source": [
    "print('{:2.2f}'.format(model_1_2_data_accuracy))"
   ]
  },
  {
   "cell_type": "code",
   "execution_count": 27,
   "metadata": {},
   "outputs": [],
   "source": [
    "model_1_2_training_confusion_matrix = fatd.measure.accountability.models.training_confusion_matrix(model_1_2, data_1_2_to_model, data_1_2)"
   ]
  },
  {
   "cell_type": "code",
   "execution_count": 28,
   "metadata": {},
   "outputs": [
    {
     "data": {
      "text/plain": [
       "array([[40.,  0.,  0.],\n",
       "       [ 0., 38.,  2.],\n",
       "       [ 0.,  2., 38.]])"
      ]
     },
     "execution_count": 28,
     "metadata": {},
     "output_type": "execute_result"
    }
   ],
   "source": [
    "model_1_2_training_confusion_matrix"
   ]
  },
  {
   "cell_type": "code",
   "execution_count": 29,
   "metadata": {},
   "outputs": [],
   "source": [
    "model_1_2_data_confusion_matrix = fatd.measure.accountability.models.data_confusion_matrix(model_1_2, data_1_2)"
   ]
  },
  {
   "cell_type": "code",
   "execution_count": 30,
   "metadata": {},
   "outputs": [
    {
     "data": {
      "text/plain": [
       "array([[50.,  0.,  0.],\n",
       "       [ 0., 48.,  2.],\n",
       "       [ 0.,  2., 48.]])"
      ]
     },
     "execution_count": 30,
     "metadata": {},
     "output_type": "execute_result"
    }
   ],
   "source": [
    "model_1_2_data_confusion_matrix"
   ]
  },
  {
   "cell_type": "markdown",
   "metadata": {},
   "source": [
    "## Predictions ##"
   ]
  },
  {
   "cell_type": "code",
   "execution_count": 31,
   "metadata": {},
   "outputs": [],
   "source": [
    "predictions_2_from_data_2_confusion_matrix = fatd.measure.accountability.predictions.prediction_confusion_matrix(predictions_2_from_data_2)"
   ]
  },
  {
   "cell_type": "code",
   "execution_count": 32,
   "metadata": {},
   "outputs": [
    {
     "data": {
      "text/plain": [
       "array([[10.,  0.,  0.],\n",
       "       [ 0., 10.,  0.],\n",
       "       [ 0.,  0., 10.]])"
      ]
     },
     "execution_count": 32,
     "metadata": {},
     "output_type": "execute_result"
    }
   ],
   "source": [
    "predictions_2_from_data_2_confusion_matrix"
   ]
  },
  {
   "cell_type": "code",
   "execution_count": 33,
   "metadata": {},
   "outputs": [],
   "source": [
    "predictions_2_from_data_2_accuracy = fatd.measure.fairness.predictions.prediction_accuracy(predictions_2_from_data_2)"
   ]
  },
  {
   "cell_type": "code",
   "execution_count": 34,
   "metadata": {},
   "outputs": [
    {
     "name": "stdout",
     "output_type": "stream",
     "text": [
      "1.00\n"
     ]
    }
   ],
   "source": [
    "print('{:2.2f}'.format(predictions_2_from_data_2_accuracy))"
   ]
  },
  {
   "cell_type": "markdown",
   "metadata": {},
   "source": [
    "---"
   ]
  },
  {
   "cell_type": "code",
   "execution_count": 35,
   "metadata": {},
   "outputs": [],
   "source": [
    "predictions_2_from_external_data_2_confusion_matrix = fatd.measure.accountability.predictions.prediction_confusion_matrix(predictions_2_from_external_data)"
   ]
  },
  {
   "cell_type": "code",
   "execution_count": 36,
   "metadata": {},
   "outputs": [
    {
     "data": {
      "text/plain": [
       "array([[6., 0., 0.],\n",
       "       [0., 0., 0.],\n",
       "       [0., 0., 0.]])"
      ]
     },
     "execution_count": 36,
     "metadata": {},
     "output_type": "execute_result"
    }
   ],
   "source": [
    "predictions_2_from_external_data_2_confusion_matrix"
   ]
  },
  {
   "cell_type": "code",
   "execution_count": 37,
   "metadata": {},
   "outputs": [],
   "source": [
    "predictions_2_from_external_data_accuracy = fatd.measure.fairness.predictions.prediction_accuracy(predictions_2_from_external_data)"
   ]
  },
  {
   "cell_type": "code",
   "execution_count": 38,
   "metadata": {},
   "outputs": [
    {
     "name": "stdout",
     "output_type": "stream",
     "text": [
      "1.00\n"
     ]
    }
   ],
   "source": [
    "print('{:2.2f}'.format(predictions_2_from_external_data_accuracy))"
   ]
  },
  {
   "cell_type": "code",
   "execution_count": null,
   "metadata": {},
   "outputs": [],
   "source": []
  }
 ],
 "metadata": {
  "kernelspec": {
   "display_name": "Python 3",
   "language": "python",
   "name": "python3"
  },
  "language_info": {
   "codemirror_mode": {
    "name": "ipython",
    "version": 3
   },
   "file_extension": ".py",
   "mimetype": "text/x-python",
   "name": "python",
   "nbconvert_exporter": "python",
   "pygments_lexer": "ipython3",
   "version": "3.6.4"
  }
 },
 "nbformat": 4,
 "nbformat_minor": 2
}
